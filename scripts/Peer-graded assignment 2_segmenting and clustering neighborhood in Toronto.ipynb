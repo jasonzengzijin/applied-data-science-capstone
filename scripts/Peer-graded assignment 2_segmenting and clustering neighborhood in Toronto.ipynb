{
 "cells": [
  {
   "cell_type": "markdown",
   "metadata": {},
   "source": [
    "Introduction:\n",
    "This coding is for second peer-graded assignment for applied data science capstone studying about segmenting and clustering neighbourhoods in Toronto.  "
   ]
  },
  {
   "cell_type": "markdown",
   "metadata": {},
   "source": [
    "Part 1: Dataframe Creation"
   ]
  },
  {
   "cell_type": "code",
   "execution_count": 14,
   "metadata": {},
   "outputs": [],
   "source": [
    "import pandas as pd"
   ]
  },
  {
   "cell_type": "code",
   "execution_count": 15,
   "metadata": {},
   "outputs": [],
   "source": [
    "url_of_neighbourhoods_in_toronto='https://en.wikipedia.org/wiki/List_of_postal_codes_of_Canada:_M'\n",
    "dfs=pd.read_html(url_of_neighbourhoods_in_toronto,header=0)"
   ]
  },
  {
   "cell_type": "markdown",
   "metadata": {},
   "source": [
    "scraping data in wikipedia by reading \n",
    "html of neighbourhoods in Toronto"
   ]
  },
  {
   "cell_type": "code",
   "execution_count": 16,
   "metadata": {},
   "outputs": [],
   "source": [
    "df=dfs[0]"
   ]
  },
  {
   "cell_type": "markdown",
   "metadata": {},
   "source": [
    "extracting dataframe in the html"
   ]
  },
  {
   "cell_type": "code",
   "execution_count": 17,
   "metadata": {},
   "outputs": [],
   "source": [
    "df_with_assigned_borough=df[df['Borough']!='Not assigned'].reset_index()"
   ]
  },
  {
   "cell_type": "markdown",
   "metadata": {},
   "source": [
    "ignore boroughs that are 'Not assigned'"
   ]
  },
  {
   "cell_type": "code",
   "execution_count": 18,
   "metadata": {},
   "outputs": [],
   "source": [
    "for i,nbh in enumerate(df_with_assigned_borough['Neighbourhood'].values):\n",
    "    if nbh=='Not assigned':\n",
    "        replaced_value=df_with_assigned_borough.iloc[i,-2].values\n",
    "        df_with_assigned_borough.iloc[i,-1]=replaced_value"
   ]
  },
  {
   "cell_type": "markdown",
   "metadata": {},
   "source": [
    "replace 'not assigned' value in neighbourhood to the name of borough"
   ]
  },
  {
   "cell_type": "code",
   "execution_count": 19,
   "metadata": {},
   "outputs": [],
   "source": [
    "df_with_assigned_borough.drop(columns=['index'],inplace=True)\n",
    "df_with_assigned_borough.sort_values('Postal Code',inplace=True)\n",
    "df_with_assigned_borough.reset_index(drop=True,inplace=True)"
   ]
  },
  {
   "cell_type": "markdown",
   "metadata": {},
   "source": [
    "adjusting format of dataframe"
   ]
  },
  {
   "cell_type": "code",
   "execution_count": 20,
   "metadata": {},
   "outputs": [
    {
     "name": "stdout",
     "output_type": "stream",
     "text": [
      "    Postal Code      Borough  \\\n",
      "0           M1B  Scarborough   \n",
      "1           M1C  Scarborough   \n",
      "2           M1E  Scarborough   \n",
      "3           M1G  Scarborough   \n",
      "4           M1H  Scarborough   \n",
      "..          ...          ...   \n",
      "98          M9N         York   \n",
      "99          M9P    Etobicoke   \n",
      "100         M9R    Etobicoke   \n",
      "101         M9V    Etobicoke   \n",
      "102         M9W    Etobicoke   \n",
      "\n",
      "                                         Neighbourhood  \n",
      "0                                       Malvern, Rouge  \n",
      "1               Rouge Hill, Port Union, Highland Creek  \n",
      "2                    Guildwood, Morningside, West Hill  \n",
      "3                                               Woburn  \n",
      "4                                            Cedarbrae  \n",
      "..                                                 ...  \n",
      "98                                              Weston  \n",
      "99                                           Westmount  \n",
      "100  Kingsview Village, St. Phillips, Martin Grove ...  \n",
      "101  South Steeles, Silverstone, Humbergate, Jamest...  \n",
      "102                Northwest, West Humber - Clairville  \n",
      "\n",
      "[103 rows x 3 columns]\n",
      "(103, 3)\n"
     ]
    }
   ],
   "source": [
    "print(df_with_assigned_borough)\n",
    "print(df_with_assigned_borough.shape)"
   ]
  },
  {
   "cell_type": "markdown",
   "metadata": {},
   "source": [
    "output the dataframe and its shape"
   ]
  },
  {
   "cell_type": "markdown",
   "metadata": {},
   "source": [
    "Part 2:Get latitude and longtitude of each neighbourhood"
   ]
  },
  {
   "cell_type": "code",
   "execution_count": 21,
   "metadata": {},
   "outputs": [],
   "source": [
    "df_lat_lng=pd.read_csv('http://cocl.us/Geospatial_data')"
   ]
  },
  {
   "cell_type": "markdown",
   "metadata": {},
   "source": [
    "read the dataframe in the link that includes latitude and longtitude of neighbourhoods"
   ]
  },
  {
   "cell_type": "code",
   "execution_count": 22,
   "metadata": {},
   "outputs": [],
   "source": [
    "df_with_assigned_borough[['Latitude','Longtitude']]=df_lat_lng[['Latitude','Longitude']]"
   ]
  },
  {
   "cell_type": "markdown",
   "metadata": {},
   "source": [
    "append them wiith previous dataframe"
   ]
  },
  {
   "cell_type": "code",
   "execution_count": 23,
   "metadata": {},
   "outputs": [
    {
     "name": "stdout",
     "output_type": "stream",
     "text": [
      "    Postal Code      Borough  \\\n",
      "0           M1B  Scarborough   \n",
      "1           M1C  Scarborough   \n",
      "2           M1E  Scarborough   \n",
      "3           M1G  Scarborough   \n",
      "4           M1H  Scarborough   \n",
      "..          ...          ...   \n",
      "98          M9N         York   \n",
      "99          M9P    Etobicoke   \n",
      "100         M9R    Etobicoke   \n",
      "101         M9V    Etobicoke   \n",
      "102         M9W    Etobicoke   \n",
      "\n",
      "                                         Neighbourhood   Latitude  Longtitude  \n",
      "0                                       Malvern, Rouge  43.806686  -79.194353  \n",
      "1               Rouge Hill, Port Union, Highland Creek  43.784535  -79.160497  \n",
      "2                    Guildwood, Morningside, West Hill  43.763573  -79.188711  \n",
      "3                                               Woburn  43.770992  -79.216917  \n",
      "4                                            Cedarbrae  43.773136  -79.239476  \n",
      "..                                                 ...        ...         ...  \n",
      "98                                              Weston  43.706876  -79.518188  \n",
      "99                                           Westmount  43.696319  -79.532242  \n",
      "100  Kingsview Village, St. Phillips, Martin Grove ...  43.688905  -79.554724  \n",
      "101  South Steeles, Silverstone, Humbergate, Jamest...  43.739416  -79.588437  \n",
      "102                Northwest, West Humber - Clairville  43.706748  -79.594054  \n",
      "\n",
      "[103 rows x 5 columns]\n"
     ]
    }
   ],
   "source": [
    "print(df_with_assigned_borough)"
   ]
  },
  {
   "cell_type": "raw",
   "metadata": {},
   "source": [
    "print final output"
   ]
  }
 ],
 "metadata": {
  "kernelspec": {
   "display_name": "Python 3",
   "language": "python",
   "name": "python3"
  },
  "language_info": {
   "codemirror_mode": {
    "name": "ipython",
    "version": 3
   },
   "file_extension": ".py",
   "mimetype": "text/x-python",
   "name": "python",
   "nbconvert_exporter": "python",
   "pygments_lexer": "ipython3",
   "version": "3.7.6"
  }
 },
 "nbformat": 4,
 "nbformat_minor": 4
}
